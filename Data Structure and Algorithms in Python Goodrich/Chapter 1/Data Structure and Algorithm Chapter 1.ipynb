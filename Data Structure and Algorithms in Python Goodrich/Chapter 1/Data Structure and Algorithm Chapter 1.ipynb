{
 "cells": [
  {
   "cell_type": "code",
   "execution_count": 1,
   "id": "87a08ec0-0dc0-42fa-a865-ff6df47f9ce8",
   "metadata": {},
   "outputs": [],
   "source": [
    "#R-1.1\n",
    "def is_multiple(n, m):\n",
    "    k = int(input())\n",
    "    if n == m*k:\n",
    "        return True\n",
    "    else:\n",
    "        return False"
   ]
  },
  {
   "cell_type": "code",
   "execution_count": 2,
   "id": "c4253f02-a7f2-4898-917e-ead5ec69023e",
   "metadata": {
    "scrolled": true
   },
   "outputs": [
    {
     "data": {
      "text/plain": [
       "False"
      ]
     },
     "execution_count": 2,
     "metadata": {},
     "output_type": "execute_result"
    }
   ],
   "source": [
    "is_multiple(4,2)"
   ]
  },
  {
   "cell_type": "code",
   "execution_count": 3,
   "id": "5c470d50-342e-4110-9910-0c214fa8ed68",
   "metadata": {},
   "outputs": [],
   "source": [
    "#R-1.2\n",
    "def is_even(k):\n",
    "    if k % 2 == 0:\n",
    "        return True\n",
    "    else:\n",
    "        return False"
   ]
  },
  {
   "cell_type": "code",
   "execution_count": 4,
   "id": "0244f27b-bc2e-4591-82eb-d4f8e5cecb31",
   "metadata": {},
   "outputs": [],
   "source": [
    "#R-1.3\n",
    "def minmax(data):\n",
    "    maximum = data[0]\n",
    "    minimum = data[0]\n",
    "    for i in range(len(data)):\n",
    "        if data[i] > maximum:\n",
    "            maximum = data[i]\n",
    "    for j in range(len(data)):\n",
    "        if data[j] < minimum:\n",
    "            minimum = data[j]\n",
    "    return maximum, minimum"
   ]
  },
  {
   "cell_type": "code",
   "execution_count": 5,
   "id": "273a22a1-e314-434f-89ab-4f0fb64c9977",
   "metadata": {},
   "outputs": [
    {
     "data": {
      "text/plain": [
       "(6, 2)"
      ]
     },
     "execution_count": 5,
     "metadata": {},
     "output_type": "execute_result"
    }
   ],
   "source": [
    "data = [5,6,4,2,3]\n",
    "minmax(data)"
   ]
  },
  {
   "cell_type": "code",
   "execution_count": 6,
   "id": "c109d9e1-d67f-4e71-b509-4309f436bae9",
   "metadata": {},
   "outputs": [],
   "source": [
    "#R-1.4\n",
    "def square(n):\n",
    "    sum = 0\n",
    "    for i in range(n):\n",
    "        if i < n:\n",
    "            sum += i*i\n",
    "    return sum"
   ]
  },
  {
   "cell_type": "code",
   "execution_count": 7,
   "id": "1ce19bd6-7a80-4eb9-8f04-c00528325cc8",
   "metadata": {},
   "outputs": [
    {
     "data": {
      "text/plain": [
       "30"
      ]
     },
     "execution_count": 7,
     "metadata": {},
     "output_type": "execute_result"
    }
   ],
   "source": [
    "square(5)"
   ]
  },
  {
   "cell_type": "code",
   "execution_count": 8,
   "id": "e7a616bf-a529-4385-9a2e-96fb90fc1416",
   "metadata": {},
   "outputs": [
    {
     "data": {
      "text/plain": [
       "30"
      ]
     },
     "execution_count": 8,
     "metadata": {},
     "output_type": "execute_result"
    }
   ],
   "source": [
    "#R-1.5\n",
    "n = int(input())\n",
    "sum([i*i for i in range(n)])"
   ]
  },
  {
   "cell_type": "code",
   "execution_count": 9,
   "id": "e8221da6-8721-4e52-bf1d-b4835f268758",
   "metadata": {},
   "outputs": [],
   "source": [
    "#R-1.6\n",
    "def f(n):\n",
    "    total = 0\n",
    "    for i in range(1, n):\n",
    "        if i % 2 != 0:\n",
    "            total += i**2\n",
    "    return total"
   ]
  },
  {
   "cell_type": "code",
   "execution_count": 10,
   "id": "a54c5f0f-7025-432f-a61d-cbd00d401e14",
   "metadata": {},
   "outputs": [
    {
     "name": "stdout",
     "output_type": "stream",
     "text": [
      "10\n"
     ]
    }
   ],
   "source": [
    "#R-1.7\n",
    "n = int(input())\n",
    "total = sum([i*i for i in range(1,n) if i % 2 != 0])\n",
    "print(total)"
   ]
  },
  {
   "cell_type": "markdown",
   "id": "e5be98ac-1ab6-4f0a-9775-bc176ea2d125",
   "metadata": {},
   "source": [
    "# R-1.8\n",
    "## Answer is n+k"
   ]
  },
  {
   "cell_type": "code",
   "execution_count": 11,
   "id": "a55f31cb-0cbe-445b-84a9-1a67f60833da",
   "metadata": {},
   "outputs": [
    {
     "data": {
      "text/plain": [
       "[50, 60, 70, 80]"
      ]
     },
     "execution_count": 11,
     "metadata": {},
     "output_type": "execute_result"
    }
   ],
   "source": [
    "# R-1.9\n",
    "list(range(50, 90, 10))"
   ]
  },
  {
   "cell_type": "code",
   "execution_count": 12,
   "id": "b935504e-2c4d-4859-ac91-087ec430ba8e",
   "metadata": {},
   "outputs": [
    {
     "data": {
      "text/plain": [
       "[8, 6, 4, 2, 0, -2, -4, -6, -8]"
      ]
     },
     "execution_count": 12,
     "metadata": {},
     "output_type": "execute_result"
    }
   ],
   "source": [
    "#R-1.10\n",
    "[-2*i+8 for i in range(9)]"
   ]
  },
  {
   "cell_type": "code",
   "execution_count": 13,
   "id": "076fb4c5-a2be-4c76-8dab-39bcc33a8e70",
   "metadata": {},
   "outputs": [
    {
     "data": {
      "text/plain": [
       "[1, 2, 4, 8, 16, 32, 64, 128, 256]"
      ]
     },
     "execution_count": 13,
     "metadata": {},
     "output_type": "execute_result"
    }
   ],
   "source": [
    "#R-1.11\n",
    "[2**i for i in range(9)]"
   ]
  },
  {
   "cell_type": "code",
   "execution_count": 14,
   "id": "d201b38e-f2d7-4597-b7cc-db9bb0c09875",
   "metadata": {},
   "outputs": [
    {
     "name": "stdout",
     "output_type": "stream",
     "text": [
      "6 3 7 5 8 2 3 7 7 2 3 5 4 3 6 5 5 6 5 2 8 3 5 5 7 4 5 5 6 4 7 8 4 4 4 4 4 7 5 3 6 6 7 7 5 7 5 5 2 8 7 2 5 7 3 2 5 7 5 4 3 3 2 2 5 5 2 5 7 4 3 7 3 4 5 3 2 2 5 4 4 3 3 8 8 3 4 4 5 7 7 4 5 5 5 2 3 4 3 3 5 3 6 3 3 5 5 4 3 7 7 4 2 4 2 6 8 7 7 4 6 5 7 5 4 5 4 6 4 5 6 8 3 4 3 4 2 6 3 5 6 3 8 8 3 4 6 3 5 8 4 4 5 4 4 7 7 6 4 5 3 5 8 4 4 4 5 6 6 4 2 4 2 7 5 7 3 4 4 2 4 8 6 3 8 4 8 4 5 5 3 5 5 2 3 4 7 5 4 2 5 4 6 4 3 3 5 2 5 3 2 5 8 6 2 8 3 4 3 8 4 8 4 2 8 3 7 4 8 2 8 5 5 8 4 7 2 8 4 5 7 3 6 7 4 4 5 8 7 8 7 4 7 4 5 5 8 6 6 5 3 4 4 4 5 6 7 5 7 3 2 4 3 4 4 4 5 4 4 7 6 2 6 3 2 5 6 2 5 5 5 7 3 5 7 2 5 8 7 8 8 7 5 2 2 3 3 3 5 4 6 4 7 5 5 7 6 5 5 3 5 6 3 6 7 7 4 4 7 6 3 4 4 4 2 8 2 3 2 4 4 7 7 3 5 2 5 3 7 8 5 5 5 8 7 6 4 4 4 7 7 8 5 6 5 8 5 7 6 7 2 8 5 7 4 3 5 8 2 5 5 3 5 8 5 4 2 7 4 4 6 4 7 3 7 4 7 3 3 3 "
     ]
    }
   ],
   "source": [
    "#R-1.12\n",
    "import random\n",
    "\n",
    "def randomchoice(data):\n",
    "    return data[random.randrange(0, len(data))]\n",
    "\n",
    "data = [2,3,5,7,8,4,3,6,7,4,5]\n",
    "for _ in range(400):\n",
    "    print(randomchoice(data), end = ' ')"
   ]
  }
 ],
 "metadata": {
  "kernelspec": {
   "display_name": "Python 3",
   "language": "python",
   "name": "python3"
  },
  "language_info": {
   "codemirror_mode": {
    "name": "ipython",
    "version": 3
   },
   "file_extension": ".py",
   "mimetype": "text/x-python",
   "name": "python",
   "nbconvert_exporter": "python",
   "pygments_lexer": "ipython3",
   "version": "3.11.9"
  }
 },
 "nbformat": 4,
 "nbformat_minor": 5
}
