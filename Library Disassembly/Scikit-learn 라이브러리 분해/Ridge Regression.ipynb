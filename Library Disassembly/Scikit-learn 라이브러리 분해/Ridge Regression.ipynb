{
 "cells": [
  {
   "cell_type": "code",
   "execution_count": 1,
   "id": "b225c7a3-7b67-4b31-a0b9-0bdf7daa064e",
   "metadata": {},
   "outputs": [],
   "source": [
    "class Ridge:\n",
    "\n",
    "    def __init__(self):\n",
    "        self.w = None\n",
    "        self.b = None\n",
    "\n",
    "    def predict(self, x):\n",
    "        return [self.w * xi + self.b for xi in x]\n",
    "\n",
    "    def fit(self, x, y, alpha=0.1, learning_rate=0.01, epochs=1000):\n",
    "        self.w = 0.0\n",
    "        self.b = 0.0\n",
    "\n",
    "        n = len(x)\n",
    "\n",
    "        for _ in range(epochs):\n",
    "            y_pred = self.predict(x)\n",
    "\n",
    "            dw = (-2 * sum((yi - y_hat) * xi for yi, y_hat, xi in zip(y, y_pred, x)) + 2 * alpha * self.w) / n\n",
    "            db = -2 * sum(yi - y_hat for yi, y_hat in zip(y, y_pred)) / n\n",
    "\n",
    "            self.w -= learning_rate * dw\n",
    "            self.b -= learning_rate * db\n",
    "\n",
    "    def mean_squared_error(self, x, y):\n",
    "        y_pred = self.predict(x)\n",
    "        mse = sum((yi - y_hat) ** 2 for yi, y_hat in zip(y, y_pred)) / len(x)\n",
    "        return mse\n",
    "    \n",
    "    def score(self, x, y):\n",
    "\n",
    "        y_pred = self.predict(x)\n",
    "        \n",
    "        y_mean = sum(y) / len(y)\n",
    "\n",
    "        sst = sum((yi - y_mean) ** 2 for yi in y)\n",
    "\n",
    "        sse = sum((yi - y_hat) ** 2 for yi, y_hat in zip(y, y_pred))\n",
    "\n",
    "        r2 = 1 - (sse / sst)\n",
    "        return r2"
   ]
  },
  {
   "cell_type": "code",
   "execution_count": 2,
   "id": "339b973f-1f0f-478f-8867-3ae76ecc0260",
   "metadata": {},
   "outputs": [],
   "source": [
    "x = [1, 2, 3, 4, 5]\n",
    "y = [2, 4, 5, 4, 5]\n",
    "model = Ridge()\n",
    "model.fit(x, y, learning_rate=0.01, epochs=1000)"
   ]
  },
  {
   "cell_type": "code",
   "execution_count": 3,
   "id": "9868b0aa-bdc9-490b-bc10-379169fdbcf1",
   "metadata": {},
   "outputs": [
    {
     "name": "stdout",
     "output_type": "stream",
     "text": [
      "[2.766516129639906, 3.3779135406844802, 3.9893109517290544, 4.600708362773629, 5.2121057738182035]\n"
     ]
    }
   ],
   "source": [
    "prediction = model.predict(x)\n",
    "print(prediction)"
   ]
  },
  {
   "cell_type": "code",
   "execution_count": 4,
   "id": "58e8a4f6",
   "metadata": {},
   "outputs": [
    {
     "data": {
      "text/plain": [
       "0.599688285241686"
      ]
     },
     "execution_count": 4,
     "metadata": {},
     "output_type": "execute_result"
    }
   ],
   "source": [
    "model.score(x, y)"
   ]
  }
 ],
 "metadata": {
  "kernelspec": {
   "display_name": "Python 3",
   "language": "python",
   "name": "python3"
  },
  "language_info": {
   "codemirror_mode": {
    "name": "ipython",
    "version": 3
   },
   "file_extension": ".py",
   "mimetype": "text/x-python",
   "name": "python",
   "nbconvert_exporter": "python",
   "pygments_lexer": "ipython3",
   "version": "3.11.9"
  }
 },
 "nbformat": 4,
 "nbformat_minor": 5
}
