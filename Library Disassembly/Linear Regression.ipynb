{
 "cells": [
  {
   "cell_type": "code",
   "execution_count": 1,
   "id": "5f58595b-7f1a-4ab1-a7e2-54f1eb18a92a",
   "metadata": {},
   "outputs": [],
   "source": [
    "class LinearRegression:\n",
    "    \n",
    "    def __init__(self):\n",
    "        self.w = None\n",
    "        self.b = None\n",
    "\n",
    "    def predict(self, x):\n",
    "        return [self.w * xi + self.b for xi in x]\n",
    "\n",
    "    def fit(self, x, y, learning_rate=0.01, epochs=1000):\n",
    "        self.w = 0.0\n",
    "        self.b = 0.0\n",
    "\n",
    "        n = len(x)\n",
    "\n",
    "        for _ in range(epochs):\n",
    "            y_pred = self.predict(x)\n",
    "\n",
    "            dw = -2 * sum((yi - y_hat) * xi for yi, y_hat, xi in zip(y, y_pred, x)) / n\n",
    "            db = -2 * sum(yi - y_hat for yi, y_hat in zip(y, y_pred)) / n\n",
    "\n",
    "            self.w -= learning_rate * dw\n",
    "            self.b -= learning_rate * db\n",
    "\n",
    "    def mean_squared_error(self, x, y):\n",
    "        y_pred = self.predict(x)\n",
    "        mse = sum((yi - y_hat) ** 2 for yi, y_hat in zip(y, y_pred)) / len(x)\n",
    "        return mse\n",
    "\n",
    "    def score(self, x, y):\n",
    "        \"\"\"\n",
    "        Calculates the R-squared score, a measure of model accuracy.\n",
    "\n",
    "        Args:\n",
    "            x: Input features.\n",
    "            y: True target values.\n",
    "\n",
    "        Returns:\n",
    "            R-squared score.\n",
    "        \"\"\"\n",
    "        y_mean = sum(y) / len(y)\n",
    "        ss_total = sum((yi - y_mean) ** 2 for yi in y)\n",
    "        ss_residual = self.mean_squared_error(x, y) * len(x) \n",
    "        r_squared = 1 - (ss_residual / ss_total)\n",
    "        return r_squared"
   ]
  },
  {
   "cell_type": "code",
   "execution_count": 5,
   "id": "fccf850e-a390-470a-903e-9a948e068834",
   "metadata": {},
   "outputs": [],
   "source": [
    "import numpy as np\n",
    "import random\n",
    "\n",
    "x = np.random.uniform(0,10,1)\n",
    "y = np.arange(0,10)\n",
    "model = LinearRegression()\n",
    "model.fit(x, y, learning_rate=0.01, epochs=1000)"
   ]
  },
  {
   "cell_type": "code",
   "execution_count": 6,
   "id": "4f9a04d6-9c83-4d15-8339-678a26475545",
   "metadata": {},
   "outputs": [
    {
     "name": "stdout",
     "output_type": "stream",
     "text": [
      "1.0\n"
     ]
    }
   ],
   "source": [
    "prediction = model.score(x, y)\n",
    "print(prediction)"
   ]
  }
 ],
 "metadata": {
  "kernelspec": {
   "display_name": "Python 3",
   "language": "python",
   "name": "python3"
  },
  "language_info": {
   "codemirror_mode": {
    "name": "ipython",
    "version": 3
   },
   "file_extension": ".py",
   "mimetype": "text/x-python",
   "name": "python",
   "nbconvert_exporter": "python",
   "pygments_lexer": "ipython3",
   "version": "3.11.9"
  }
 },
 "nbformat": 4,
 "nbformat_minor": 5
}
