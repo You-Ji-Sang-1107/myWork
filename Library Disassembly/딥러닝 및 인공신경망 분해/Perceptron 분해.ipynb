{
 "cells": [
  {
   "cell_type": "code",
   "execution_count": 5,
   "id": "1a558194-3f26-4255-8cbc-3354a8e393b6",
   "metadata": {},
   "outputs": [
    {
     "name": "stdout",
     "output_type": "stream",
     "text": [
      "[0.2 0.2 0.2]\n",
      "[0.  0.4 0.2]\n",
      "[-0.2  0.4  0.2]\n",
      "[-0.2  0.4  0.4]\n",
      "[-0.4  0.4  0.2]\n",
      "[-0.4  0.4  0.2]\n",
      "[-0.4  0.4  0.2]\n",
      "[-0.4  0.4  0.2]\n",
      "[-0.4  0.4  0.2]\n",
      "[-0.4  0.4  0.2]\n",
      "[1, 3, 3, 2, 1, 0, 0, 0, 0, 0]\n"
     ]
    }
   ],
   "source": [
    "import numpy as np\n",
    "\n",
    "class Perceptron:\n",
    "    \n",
    "    # 퍼셉트론 초기화 및 하이퍼파라미터 조정\n",
    "    def __init__(self, threshold = 0.0, eta = 0.1, n_iter = 10):\n",
    "        self.threshold = threshold\n",
    "        self.eta = eta\n",
    "        self.n_iter = n_iter\n",
    "    \n",
    "    # 퍼셉트론으로 fit시키는 메서드\n",
    "    def fit(self, X, y):\n",
    "        self.w = np.zeros(1+X.shape[1]) # 가중치 벡터 초기화\n",
    "        self.errors = [] # 각 에포크에서 오류 저장 리스트\n",
    "\n",
    "        for _ in range(self.n_iter): # 에포크 수\n",
    "            errors = 0\n",
    "            for xi, target in zip(X, y): # 각 데이터 샘플에 대해\n",
    "                update = self.eta * (target - self.predict(xi))\n",
    "                self.w[1:] += update * xi # 가중치 업데이트\n",
    "                self.w[0] += update # 편향 업데이트\n",
    "            errors += int(update != 0.0) # 업데이트가 발생했으면 오류로 간주\n",
    "        self.errors.append(errors)  # 에포크별 오류 수 저장\n",
    "        print(self.w) # 학습된 가중치 출력\n",
    "\n",
    "        return self\n",
    "    \n",
    "    # 입력 데이터 X에 대한 선형 결합 결과를 계산\n",
    "    def net_input(self, X):\n",
    "        return np.dot(X, self.w[1:]) + self.w[0]\n",
    "    \n",
    "    # net_input(X)이 threshold를 넘으면 1, 그렇지 않으면 -1을 반환하여 이진 분류 수행\n",
    "    def predict(self, X):\n",
    "        return np.where(self.net_input(X) > self.threshold, 1, -1)\n",
    "    \n",
    "p = Perceptron()\n",
    "p.fit(np.array([[0,0],[0,1],[1,0],[1,1]]), np.array([-1,-1,-1,1]))\n",
    "print(p.errors) # 가중치 벡터 변화 10개와 에포크별 오분류된 데이터 수 출력"
   ]
  },
  {
   "cell_type": "code",
   "execution_count": null,
   "id": "e7045834-b1d3-46d8-83e3-bc1f4ebb4d7e",
   "metadata": {},
   "outputs": [],
   "source": []
  }
 ],
 "metadata": {
  "kernelspec": {
   "display_name": "Python 3",
   "language": "python",
   "name": "python3"
  },
  "language_info": {
   "codemirror_mode": {
    "name": "ipython",
    "version": 3
   },
   "file_extension": ".py",
   "mimetype": "text/x-python",
   "name": "python",
   "nbconvert_exporter": "python",
   "pygments_lexer": "ipython3",
   "version": "3.11.9"
  }
 },
 "nbformat": 4,
 "nbformat_minor": 5
}
